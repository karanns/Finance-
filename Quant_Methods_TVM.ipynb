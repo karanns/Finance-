{
  "nbformat": 4,
  "nbformat_minor": 0,
  "metadata": {
    "colab": {
      "name": "Quant Methods TVM.ipynb",
      "provenance": []
    },
    "kernelspec": {
      "name": "python3",
      "display_name": "Python 3"
    }
  },
  "cells": [
    {
      "cell_type": "code",
      "metadata": {
        "id": "5JvnzOsPRt9q"
      },
      "source": [
        "import pandas as pd\n",
        "import numpy as np"
      ],
      "execution_count": 2,
      "outputs": []
    },
    {
      "cell_type": "markdown",
      "metadata": {
        "id": "gB4QAxOUTgvW"
      },
      "source": [
        "Interest rates are set in the marketplace by the forces of supply and demand, where investors are the suppliers of funds and borrowers are demanders of funds.\n",
        "r = Real risk-free interest rate + inflation premium + Default risk premium + Liquidity premium + Maturity premium."
      ]
    },
    {
      "cell_type": "code",
      "metadata": {
        "id": "rWFu5hc7UWf6"
      },
      "source": [
        "def future_value(PV,r,n):\n",
        "   print(PV*(1+r)**n)"
      ],
      "execution_count": 3,
      "outputs": []
    },
    {
      "cell_type": "code",
      "metadata": {
        "id": "vBA9-Mk1dqKR",
        "colab": {
          "base_uri": "https://localhost:8080/"
        },
        "outputId": "67c45e1d-bb30-444c-bdd5-711d14b3d6dd"
      },
      "source": [
        "future_value(100,.05,2)"
      ],
      "execution_count": 4,
      "outputs": [
        {
          "output_type": "stream",
          "name": "stdout",
          "text": [
            "110.25\n"
          ]
        }
      ]
    },
    {
      "cell_type": "markdown",
      "metadata": {
        "id": "J2VpNEM9W0-q"
      },
      "source": [
        "Effective Annual Rate (EAR) = (1 + Periodic interest rate)^m - 1"
      ]
    },
    {
      "cell_type": "code",
      "metadata": {
        "id": "yOyqh01TXQFw"
      },
      "source": [
        "def EAR(Pint,m):\n",
        "  print(((1 + Pint)**m -1)*100)"
      ],
      "execution_count": 5,
      "outputs": []
    },
    {
      "cell_type": "code",
      "metadata": {
        "id": "YCEAs9x2X4s-",
        "colab": {
          "base_uri": "https://localhost:8080/"
        },
        "outputId": "269da8cc-fcd1-40e0-c125-cd4447e11b33"
      },
      "source": [
        "EAR(0.04,2)"
      ],
      "execution_count": 6,
      "outputs": [
        {
          "output_type": "stream",
          "name": "stdout",
          "text": [
            "8.16000000000001\n"
          ]
        }
      ]
    },
    {
      "cell_type": "code",
      "metadata": {
        "id": "7Fo1j6XuYWhZ"
      },
      "source": [
        ""
      ],
      "execution_count": 6,
      "outputs": []
    },
    {
      "cell_type": "markdown",
      "metadata": {
        "id": "AVHG0zNMY307"
      },
      "source": [
        "Annuity is a finiste set of sequential cash flows.\n",
        "Annuity due has a first cash flow that occurs immediately.(t = 0)\n",
        "Ordinary annuity has a first cash flow that occurs one period from now indexed (t = 1).\n",
        "A perpetuity is a perpetual annuity or a set of level never ending sequential cash flows. With the first cash flow occuring one period from now."
      ]
    },
    {
      "cell_type": "code",
      "metadata": {
        "id": "NqhrCKJMZdFh"
      },
      "source": [
        "def FV_Ord_Annuity(A,r,n):\n",
        "  print(A*((((1+r)**n)-1)/r))"
      ],
      "execution_count": 7,
      "outputs": []
    },
    {
      "cell_type": "code",
      "metadata": {
        "id": "t4dGHQ7Ea9bq",
        "colab": {
          "base_uri": "https://localhost:8080/"
        },
        "outputId": "c6195927-e1e2-4a37-d3e3-e563ed6174d1"
      },
      "source": [
        "FV_Ord_Annuity(22000,0.1034,30)"
      ],
      "execution_count": 8,
      "outputs": [
        {
          "output_type": "stream",
          "name": "stdout",
          "text": [
            "3860019.475655313\n"
          ]
        }
      ]
    },
    {
      "cell_type": "code",
      "metadata": {
        "id": "gGKX0Nm1ddqm",
        "colab": {
          "base_uri": "https://localhost:8080/"
        },
        "outputId": "b0029cc1-0408-4d82-b782-fabf95d505c0"
      },
      "source": [
        "from statistics import stdev \n",
        "\n",
        "d = [3,7,2,9,8,10]\n",
        "stdev(d)"
      ],
      "execution_count": 12,
      "outputs": [
        {
          "output_type": "execute_result",
          "data": {
            "text/plain": [
              "3.271085446759225"
            ]
          },
          "metadata": {},
          "execution_count": 12
        }
      ]
    },
    {
      "cell_type": "code",
      "metadata": {
        "id": "eL7_K8BVBUX0",
        "colab": {
          "base_uri": "https://localhost:8080/"
        },
        "outputId": "8520d845-ff87-4b5b-bfb1-60f0df700193"
      },
      "source": [
        "#Net Preset Value\n",
        "\n",
        "x = [-100,56,65,90,40,30,20,60]\n",
        "rate = 0.02\n",
        "npv = np.npv(rate,x)\n",
        "print(\"Net Present Value(npv) : \", npv)"
      ],
      "execution_count": 13,
      "outputs": [
        {
          "output_type": "stream",
          "name": "stdout",
          "text": [
            "Net Present Value(npv) :  236.30572137053346\n"
          ]
        },
        {
          "output_type": "stream",
          "name": "stderr",
          "text": [
            "/usr/local/lib/python3.7/dist-packages/ipykernel_launcher.py:5: DeprecationWarning: numpy.npv is deprecated and will be removed from NumPy 1.20. Use numpy_financial.npv instead (https://pypi.org/project/numpy-financial/).\n",
            "  \"\"\"\n"
          ]
        }
      ]
    },
    {
      "cell_type": "code",
      "metadata": {
        "id": "uSg-NA8GBkfb"
      },
      "source": [
        ""
      ],
      "execution_count": null,
      "outputs": []
    },
    {
      "cell_type": "code",
      "metadata": {
        "id": "RGWhNUhcB5h5"
      },
      "source": [
        ""
      ],
      "execution_count": null,
      "outputs": []
    },
    {
      "cell_type": "code",
      "metadata": {
        "id": "bPloF-DnB-yC"
      },
      "source": [
        ""
      ],
      "execution_count": null,
      "outputs": []
    }
  ]
}