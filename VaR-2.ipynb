{
  "nbformat": 4,
  "nbformat_minor": 0,
  "metadata": {
    "colab": {
      "name": "VaR ",
      "provenance": [],
      "collapsed_sections": []
    },
    "kernelspec": {
      "name": "python3",
      "display_name": "Python 3"
    },
    "language_info": {
      "name": "python"
    }
  },
  "cells": [
    {
      "cell_type": "code",
      "metadata": {
        "id": "D6bX9QVgQ9sc"
      },
      "source": [
        "import pandas as pd\n",
        "import numpy as np\n",
        "import seaborn as sns\n",
        "import warnings\n",
        "import matplotlib.pyplot as plt\n",
        "%matplotlib inline\n",
        "import datetime\n",
        "from pandas_datareader import data as web\n",
        "import scipy.optimize as sco\n",
        "import requests\n",
        "from bs4 import BeautifulSoup\n",
        "from datetime import datetime\n",
        "import pandas_datareader.data as web"
      ],
      "execution_count": 1,
      "outputs": []
    },
    {
      "cell_type": "code",
      "metadata": {
        "id": "E6hgkzSonnfV"
      },
      "source": [
        "initial_investment = 500000"
      ],
      "execution_count": 2,
      "outputs": []
    },
    {
      "cell_type": "code",
      "metadata": {
        "colab": {
          "base_uri": "https://localhost:8080/",
          "height": 582
        },
        "id": "0FlTtrrnRum9",
        "outputId": "99eadbca-10f5-486a-f807-aa0174c8eb17"
      },
      "source": [
        "pip install yfinance"
      ],
      "execution_count": 3,
      "outputs": [
        {
          "output_type": "stream",
          "name": "stdout",
          "text": [
            "Collecting yfinance\n",
            "  Downloading yfinance-0.1.63.tar.gz (26 kB)\n",
            "Requirement already satisfied: pandas>=0.24 in /usr/local/lib/python3.7/dist-packages (from yfinance) (1.1.5)\n",
            "Requirement already satisfied: numpy>=1.15 in /usr/local/lib/python3.7/dist-packages (from yfinance) (1.19.5)\n",
            "Requirement already satisfied: requests>=2.20 in /usr/local/lib/python3.7/dist-packages (from yfinance) (2.23.0)\n",
            "Requirement already satisfied: multitasking>=0.0.7 in /usr/local/lib/python3.7/dist-packages (from yfinance) (0.0.9)\n",
            "Collecting lxml>=4.5.1\n",
            "  Downloading lxml-4.6.3-cp37-cp37m-manylinux2014_x86_64.whl (6.3 MB)\n",
            "\u001b[K     |████████████████████████████████| 6.3 MB 43.6 MB/s \n",
            "\u001b[?25hRequirement already satisfied: python-dateutil>=2.7.3 in /usr/local/lib/python3.7/dist-packages (from pandas>=0.24->yfinance) (2.8.2)\n",
            "Requirement already satisfied: pytz>=2017.2 in /usr/local/lib/python3.7/dist-packages (from pandas>=0.24->yfinance) (2018.9)\n",
            "Requirement already satisfied: six>=1.5 in /usr/local/lib/python3.7/dist-packages (from python-dateutil>=2.7.3->pandas>=0.24->yfinance) (1.15.0)\n",
            "Requirement already satisfied: chardet<4,>=3.0.2 in /usr/local/lib/python3.7/dist-packages (from requests>=2.20->yfinance) (3.0.4)\n",
            "Requirement already satisfied: certifi>=2017.4.17 in /usr/local/lib/python3.7/dist-packages (from requests>=2.20->yfinance) (2021.5.30)\n",
            "Requirement already satisfied: idna<3,>=2.5 in /usr/local/lib/python3.7/dist-packages (from requests>=2.20->yfinance) (2.10)\n",
            "Requirement already satisfied: urllib3!=1.25.0,!=1.25.1,<1.26,>=1.21.1 in /usr/local/lib/python3.7/dist-packages (from requests>=2.20->yfinance) (1.24.3)\n",
            "Building wheels for collected packages: yfinance\n",
            "  Building wheel for yfinance (setup.py) ... \u001b[?25l\u001b[?25hdone\n",
            "  Created wheel for yfinance: filename=yfinance-0.1.63-py2.py3-none-any.whl size=23918 sha256=575822962a23a5b959479df40b275e118ebdebc585ca5d21bb5aa5d8113edce2\n",
            "  Stored in directory: /root/.cache/pip/wheels/fe/87/8b/7ec24486e001d3926537f5f7801f57a74d181be25b11157983\n",
            "Successfully built yfinance\n",
            "Installing collected packages: lxml, yfinance\n",
            "  Attempting uninstall: lxml\n",
            "    Found existing installation: lxml 4.2.6\n",
            "    Uninstalling lxml-4.2.6:\n",
            "      Successfully uninstalled lxml-4.2.6\n",
            "Successfully installed lxml-4.6.3 yfinance-0.1.63\n"
          ]
        },
        {
          "output_type": "display_data",
          "data": {
            "application/vnd.colab-display-data+json": {
              "pip_warning": {
                "packages": [
                  "lxml"
                ]
              }
            }
          },
          "metadata": {}
        }
      ]
    },
    {
      "cell_type": "code",
      "metadata": {
        "colab": {
          "base_uri": "https://localhost:8080/"
        },
        "id": "aCgXdUHdRvQV",
        "outputId": "310d4674-731e-498d-ccf5-823e80f05d38"
      },
      "source": [
        "\n",
        "import yfinance as yf\n",
        "\n",
        "data = yf.download('MSFT','2021-03-05','2021-09-05')"
      ],
      "execution_count": 4,
      "outputs": [
        {
          "output_type": "stream",
          "name": "stdout",
          "text": [
            "\r[*********************100%***********************]  1 of 1 completed\n"
          ]
        }
      ]
    },
    {
      "cell_type": "code",
      "metadata": {
        "colab": {
          "base_uri": "https://localhost:8080/",
          "height": 235
        },
        "id": "ZPhCoF0_S76Y",
        "outputId": "8a8db2a3-65d4-4b98-a602-3177d0378277"
      },
      "source": [
        "data.head()"
      ],
      "execution_count": 5,
      "outputs": [
        {
          "output_type": "execute_result",
          "data": {
            "text/html": [
              "<div>\n",
              "<style scoped>\n",
              "    .dataframe tbody tr th:only-of-type {\n",
              "        vertical-align: middle;\n",
              "    }\n",
              "\n",
              "    .dataframe tbody tr th {\n",
              "        vertical-align: top;\n",
              "    }\n",
              "\n",
              "    .dataframe thead th {\n",
              "        text-align: right;\n",
              "    }\n",
              "</style>\n",
              "<table border=\"1\" class=\"dataframe\">\n",
              "  <thead>\n",
              "    <tr style=\"text-align: right;\">\n",
              "      <th></th>\n",
              "      <th>Open</th>\n",
              "      <th>High</th>\n",
              "      <th>Low</th>\n",
              "      <th>Close</th>\n",
              "      <th>Adj Close</th>\n",
              "      <th>Volume</th>\n",
              "    </tr>\n",
              "    <tr>\n",
              "      <th>Date</th>\n",
              "      <th></th>\n",
              "      <th></th>\n",
              "      <th></th>\n",
              "      <th></th>\n",
              "      <th></th>\n",
              "      <th></th>\n",
              "    </tr>\n",
              "  </thead>\n",
              "  <tbody>\n",
              "    <tr>\n",
              "      <th>2021-03-05</th>\n",
              "      <td>229.520004</td>\n",
              "      <td>233.270004</td>\n",
              "      <td>226.460007</td>\n",
              "      <td>231.600006</td>\n",
              "      <td>230.624939</td>\n",
              "      <td>41872800</td>\n",
              "    </tr>\n",
              "    <tr>\n",
              "      <th>2021-03-08</th>\n",
              "      <td>231.369995</td>\n",
              "      <td>233.369995</td>\n",
              "      <td>227.130005</td>\n",
              "      <td>227.389999</td>\n",
              "      <td>226.432663</td>\n",
              "      <td>35267400</td>\n",
              "    </tr>\n",
              "    <tr>\n",
              "      <th>2021-03-09</th>\n",
              "      <td>232.880005</td>\n",
              "      <td>235.380005</td>\n",
              "      <td>231.669998</td>\n",
              "      <td>233.779999</td>\n",
              "      <td>232.795746</td>\n",
              "      <td>33080500</td>\n",
              "    </tr>\n",
              "    <tr>\n",
              "      <th>2021-03-10</th>\n",
              "      <td>237.000000</td>\n",
              "      <td>237.000000</td>\n",
              "      <td>232.039993</td>\n",
              "      <td>232.419998</td>\n",
              "      <td>231.441483</td>\n",
              "      <td>29746800</td>\n",
              "    </tr>\n",
              "    <tr>\n",
              "      <th>2021-03-11</th>\n",
              "      <td>234.960007</td>\n",
              "      <td>239.169998</td>\n",
              "      <td>234.309998</td>\n",
              "      <td>237.130005</td>\n",
              "      <td>236.131653</td>\n",
              "      <td>29907600</td>\n",
              "    </tr>\n",
              "  </tbody>\n",
              "</table>\n",
              "</div>"
            ],
            "text/plain": [
              "                  Open        High  ...   Adj Close    Volume\n",
              "Date                                ...                      \n",
              "2021-03-05  229.520004  233.270004  ...  230.624939  41872800\n",
              "2021-03-08  231.369995  233.369995  ...  226.432663  35267400\n",
              "2021-03-09  232.880005  235.380005  ...  232.795746  33080500\n",
              "2021-03-10  237.000000  237.000000  ...  231.441483  29746800\n",
              "2021-03-11  234.960007  239.169998  ...  236.131653  29907600\n",
              "\n",
              "[5 rows x 6 columns]"
            ]
          },
          "metadata": {},
          "execution_count": 5
        }
      ]
    },
    {
      "cell_type": "code",
      "metadata": {
        "id": "73vvS-a1TNfS"
      },
      "source": [
        "data.rename({'Adj Close': 'MSFT Close'}, axis = 1 , inplace = True)\n",
        "data = data.reset_index()\n",
        "data.drop(['Open','High','Low','Close','Volume'],axis = 1, inplace = True)"
      ],
      "execution_count": 6,
      "outputs": []
    },
    {
      "cell_type": "code",
      "metadata": {
        "colab": {
          "base_uri": "https://localhost:8080/"
        },
        "id": "-luIwhu4TUbV",
        "outputId": "391cfa73-d81f-4514-d795-5d6e9db63fc1"
      },
      "source": [
        "\n",
        "data1 = yf.download('AAPL','2021-03-05','2021-09-05')\n",
        "data1.rename({'Adj Close': 'AAPL Close'}, axis = 1 , inplace = True)\n",
        "data1 = data1.reset_index()\n",
        "data1.drop(['Open','High','Low','Close','Volume'],axis = 1, inplace = True)"
      ],
      "execution_count": 7,
      "outputs": [
        {
          "output_type": "stream",
          "name": "stdout",
          "text": [
            "\r[*********************100%***********************]  1 of 1 completed\n"
          ]
        }
      ]
    },
    {
      "cell_type": "code",
      "metadata": {
        "colab": {
          "base_uri": "https://localhost:8080/"
        },
        "id": "18z9jCbvTueB",
        "outputId": "1e3bdae9-8723-4754-d2b7-5c699eed7c84"
      },
      "source": [
        "data2 = yf.download('FB','2021-03-05','2021-09-05')\n",
        "data2.rename({'Adj Close': 'FB Close'}, axis = 1 , inplace = True)\n",
        "data2 = data2.reset_index()\n",
        "data2.drop(['Open','High','Low','Close','Volume'],axis = 1, inplace = True)"
      ],
      "execution_count": 8,
      "outputs": [
        {
          "output_type": "stream",
          "name": "stdout",
          "text": [
            "\r[*********************100%***********************]  1 of 1 completed\n"
          ]
        }
      ]
    },
    {
      "cell_type": "code",
      "metadata": {
        "colab": {
          "base_uri": "https://localhost:8080/"
        },
        "id": "Ebh_NS7aTwZw",
        "outputId": "34f63062-2330-44d6-f530-38de030e464d"
      },
      "source": [
        "data3 = yf.download('C','2021-03-05','2021-09-05')\n",
        "data3.rename({'Adj Close': 'C Close'}, axis = 1 , inplace = True)\n",
        "data3 = data3.reset_index()\n",
        "data3.drop(['Open','High','Low','Close','Volume'],axis = 1, inplace = True)"
      ],
      "execution_count": 9,
      "outputs": [
        {
          "output_type": "stream",
          "name": "stdout",
          "text": [
            "\r[*********************100%***********************]  1 of 1 completed\n"
          ]
        }
      ]
    },
    {
      "cell_type": "code",
      "metadata": {
        "colab": {
          "base_uri": "https://localhost:8080/"
        },
        "id": "pbbiWPtvchEg",
        "outputId": "7716b011-d43c-4c8f-d981-28ba14c19557"
      },
      "source": [
        "data.columns"
      ],
      "execution_count": 10,
      "outputs": [
        {
          "output_type": "execute_result",
          "data": {
            "text/plain": [
              "Index(['Date', 'MSFT Close'], dtype='object')"
            ]
          },
          "metadata": {},
          "execution_count": 10
        }
      ]
    },
    {
      "cell_type": "code",
      "metadata": {
        "id": "i8Nheth8dxFz"
      },
      "source": [
        "data = pd.merge(data,data1, on = 'Date', how = 'left')"
      ],
      "execution_count": 11,
      "outputs": []
    },
    {
      "cell_type": "code",
      "metadata": {
        "id": "aSGfvZKjUDg9"
      },
      "source": [
        "data = pd.merge(data,data2 ,on = 'Date', how = 'left')\n"
      ],
      "execution_count": 12,
      "outputs": []
    },
    {
      "cell_type": "code",
      "metadata": {
        "id": "QLXRoNi-eJAl"
      },
      "source": [
        "data = pd.merge(data,data3 ,on = 'Date', how = 'left')"
      ],
      "execution_count": 13,
      "outputs": []
    },
    {
      "cell_type": "code",
      "metadata": {
        "colab": {
          "base_uri": "https://localhost:8080/",
          "height": 419
        },
        "id": "ilFyZcuLUGac",
        "outputId": "b320e918-c22a-4e92-c01b-564fd83bc44d"
      },
      "source": [
        "data"
      ],
      "execution_count": 14,
      "outputs": [
        {
          "output_type": "execute_result",
          "data": {
            "text/html": [
              "<div>\n",
              "<style scoped>\n",
              "    .dataframe tbody tr th:only-of-type {\n",
              "        vertical-align: middle;\n",
              "    }\n",
              "\n",
              "    .dataframe tbody tr th {\n",
              "        vertical-align: top;\n",
              "    }\n",
              "\n",
              "    .dataframe thead th {\n",
              "        text-align: right;\n",
              "    }\n",
              "</style>\n",
              "<table border=\"1\" class=\"dataframe\">\n",
              "  <thead>\n",
              "    <tr style=\"text-align: right;\">\n",
              "      <th></th>\n",
              "      <th>Date</th>\n",
              "      <th>MSFT Close</th>\n",
              "      <th>AAPL Close</th>\n",
              "      <th>FB Close</th>\n",
              "      <th>C Close</th>\n",
              "    </tr>\n",
              "  </thead>\n",
              "  <tbody>\n",
              "    <tr>\n",
              "      <th>0</th>\n",
              "      <td>2021-03-05</td>\n",
              "      <td>230.624939</td>\n",
              "      <td>121.032768</td>\n",
              "      <td>264.279999</td>\n",
              "      <td>69.228012</td>\n",
              "    </tr>\n",
              "    <tr>\n",
              "      <th>1</th>\n",
              "      <td>2021-03-08</td>\n",
              "      <td>226.432663</td>\n",
              "      <td>115.988907</td>\n",
              "      <td>255.309998</td>\n",
              "      <td>71.189613</td>\n",
              "    </tr>\n",
              "    <tr>\n",
              "      <th>2</th>\n",
              "      <td>2021-03-09</td>\n",
              "      <td>232.795746</td>\n",
              "      <td>120.703819</td>\n",
              "      <td>265.739990</td>\n",
              "      <td>69.977165</td>\n",
              "    </tr>\n",
              "    <tr>\n",
              "      <th>3</th>\n",
              "      <td>2021-03-10</td>\n",
              "      <td>231.441483</td>\n",
              "      <td>119.597374</td>\n",
              "      <td>264.899994</td>\n",
              "      <td>72.697784</td>\n",
              "    </tr>\n",
              "    <tr>\n",
              "      <th>4</th>\n",
              "      <td>2021-03-11</td>\n",
              "      <td>236.131653</td>\n",
              "      <td>121.571045</td>\n",
              "      <td>273.880005</td>\n",
              "      <td>72.264061</td>\n",
              "    </tr>\n",
              "    <tr>\n",
              "      <th>...</th>\n",
              "      <td>...</td>\n",
              "      <td>...</td>\n",
              "      <td>...</td>\n",
              "      <td>...</td>\n",
              "      <td>...</td>\n",
              "    </tr>\n",
              "    <tr>\n",
              "      <th>123</th>\n",
              "      <td>2021-08-30</td>\n",
              "      <td>303.589996</td>\n",
              "      <td>153.119995</td>\n",
              "      <td>380.660004</td>\n",
              "      <td>71.669998</td>\n",
              "    </tr>\n",
              "    <tr>\n",
              "      <th>124</th>\n",
              "      <td>2021-08-31</td>\n",
              "      <td>301.880005</td>\n",
              "      <td>151.830002</td>\n",
              "      <td>379.380005</td>\n",
              "      <td>71.910004</td>\n",
              "    </tr>\n",
              "    <tr>\n",
              "      <th>125</th>\n",
              "      <td>2021-09-01</td>\n",
              "      <td>301.829987</td>\n",
              "      <td>152.509995</td>\n",
              "      <td>382.049988</td>\n",
              "      <td>71.309998</td>\n",
              "    </tr>\n",
              "    <tr>\n",
              "      <th>126</th>\n",
              "      <td>2021-09-02</td>\n",
              "      <td>301.149994</td>\n",
              "      <td>153.649994</td>\n",
              "      <td>375.279999</td>\n",
              "      <td>71.500000</td>\n",
              "    </tr>\n",
              "    <tr>\n",
              "      <th>127</th>\n",
              "      <td>2021-09-03</td>\n",
              "      <td>301.140015</td>\n",
              "      <td>154.300003</td>\n",
              "      <td>376.260010</td>\n",
              "      <td>71.169998</td>\n",
              "    </tr>\n",
              "  </tbody>\n",
              "</table>\n",
              "<p>128 rows × 5 columns</p>\n",
              "</div>"
            ],
            "text/plain": [
              "          Date  MSFT Close  AAPL Close    FB Close    C Close\n",
              "0   2021-03-05  230.624939  121.032768  264.279999  69.228012\n",
              "1   2021-03-08  226.432663  115.988907  255.309998  71.189613\n",
              "2   2021-03-09  232.795746  120.703819  265.739990  69.977165\n",
              "3   2021-03-10  231.441483  119.597374  264.899994  72.697784\n",
              "4   2021-03-11  236.131653  121.571045  273.880005  72.264061\n",
              "..         ...         ...         ...         ...        ...\n",
              "123 2021-08-30  303.589996  153.119995  380.660004  71.669998\n",
              "124 2021-08-31  301.880005  151.830002  379.380005  71.910004\n",
              "125 2021-09-01  301.829987  152.509995  382.049988  71.309998\n",
              "126 2021-09-02  301.149994  153.649994  375.279999  71.500000\n",
              "127 2021-09-03  301.140015  154.300003  376.260010  71.169998\n",
              "\n",
              "[128 rows x 5 columns]"
            ]
          },
          "metadata": {},
          "execution_count": 14
        }
      ]
    },
    {
      "cell_type": "code",
      "metadata": {
        "id": "DOCDxqpHUqzY"
      },
      "source": [
        "returns = data.iloc[:,1:].pct_change()"
      ],
      "execution_count": 15,
      "outputs": []
    },
    {
      "cell_type": "code",
      "metadata": {
        "id": "h-1gvA_kfhRl"
      },
      "source": [
        "returns.dropna(inplace = True)"
      ],
      "execution_count": 16,
      "outputs": []
    },
    {
      "cell_type": "code",
      "metadata": {
        "colab": {
          "base_uri": "https://localhost:8080/",
          "height": 419
        },
        "id": "_RkG4mENfxAJ",
        "outputId": "fd1f8c21-35b8-4978-fe37-804ceb8d2efd"
      },
      "source": [
        "returns"
      ],
      "execution_count": 17,
      "outputs": [
        {
          "output_type": "execute_result",
          "data": {
            "text/html": [
              "<div>\n",
              "<style scoped>\n",
              "    .dataframe tbody tr th:only-of-type {\n",
              "        vertical-align: middle;\n",
              "    }\n",
              "\n",
              "    .dataframe tbody tr th {\n",
              "        vertical-align: top;\n",
              "    }\n",
              "\n",
              "    .dataframe thead th {\n",
              "        text-align: right;\n",
              "    }\n",
              "</style>\n",
              "<table border=\"1\" class=\"dataframe\">\n",
              "  <thead>\n",
              "    <tr style=\"text-align: right;\">\n",
              "      <th></th>\n",
              "      <th>MSFT Close</th>\n",
              "      <th>AAPL Close</th>\n",
              "      <th>FB Close</th>\n",
              "      <th>C Close</th>\n",
              "    </tr>\n",
              "  </thead>\n",
              "  <tbody>\n",
              "    <tr>\n",
              "      <th>1</th>\n",
              "      <td>-0.018178</td>\n",
              "      <td>-0.041674</td>\n",
              "      <td>-0.033941</td>\n",
              "      <td>0.028335</td>\n",
              "    </tr>\n",
              "    <tr>\n",
              "      <th>2</th>\n",
              "      <td>0.028101</td>\n",
              "      <td>0.040650</td>\n",
              "      <td>0.040852</td>\n",
              "      <td>-0.017031</td>\n",
              "    </tr>\n",
              "    <tr>\n",
              "      <th>3</th>\n",
              "      <td>-0.005817</td>\n",
              "      <td>-0.009167</td>\n",
              "      <td>-0.003161</td>\n",
              "      <td>0.038879</td>\n",
              "    </tr>\n",
              "    <tr>\n",
              "      <th>4</th>\n",
              "      <td>0.020265</td>\n",
              "      <td>0.016503</td>\n",
              "      <td>0.033900</td>\n",
              "      <td>-0.005966</td>\n",
              "    </tr>\n",
              "    <tr>\n",
              "      <th>5</th>\n",
              "      <td>-0.005820</td>\n",
              "      <td>-0.007625</td>\n",
              "      <td>-0.020009</td>\n",
              "      <td>0.025508</td>\n",
              "    </tr>\n",
              "    <tr>\n",
              "      <th>...</th>\n",
              "      <td>...</td>\n",
              "      <td>...</td>\n",
              "      <td>...</td>\n",
              "      <td>...</td>\n",
              "    </tr>\n",
              "    <tr>\n",
              "      <th>123</th>\n",
              "      <td>0.012912</td>\n",
              "      <td>0.030417</td>\n",
              "      <td>0.021550</td>\n",
              "      <td>-0.018085</td>\n",
              "    </tr>\n",
              "    <tr>\n",
              "      <th>124</th>\n",
              "      <td>-0.005633</td>\n",
              "      <td>-0.008425</td>\n",
              "      <td>-0.003363</td>\n",
              "      <td>0.003349</td>\n",
              "    </tr>\n",
              "    <tr>\n",
              "      <th>125</th>\n",
              "      <td>-0.000166</td>\n",
              "      <td>0.004479</td>\n",
              "      <td>0.007038</td>\n",
              "      <td>-0.008344</td>\n",
              "    </tr>\n",
              "    <tr>\n",
              "      <th>126</th>\n",
              "      <td>-0.002253</td>\n",
              "      <td>0.007475</td>\n",
              "      <td>-0.017720</td>\n",
              "      <td>0.002664</td>\n",
              "    </tr>\n",
              "    <tr>\n",
              "      <th>127</th>\n",
              "      <td>-0.000033</td>\n",
              "      <td>0.004230</td>\n",
              "      <td>0.002611</td>\n",
              "      <td>-0.004615</td>\n",
              "    </tr>\n",
              "  </tbody>\n",
              "</table>\n",
              "<p>127 rows × 4 columns</p>\n",
              "</div>"
            ],
            "text/plain": [
              "     MSFT Close  AAPL Close  FB Close   C Close\n",
              "1     -0.018178   -0.041674 -0.033941  0.028335\n",
              "2      0.028101    0.040650  0.040852 -0.017031\n",
              "3     -0.005817   -0.009167 -0.003161  0.038879\n",
              "4      0.020265    0.016503  0.033900 -0.005966\n",
              "5     -0.005820   -0.007625 -0.020009  0.025508\n",
              "..          ...         ...       ...       ...\n",
              "123    0.012912    0.030417  0.021550 -0.018085\n",
              "124   -0.005633   -0.008425 -0.003363  0.003349\n",
              "125   -0.000166    0.004479  0.007038 -0.008344\n",
              "126   -0.002253    0.007475 -0.017720  0.002664\n",
              "127   -0.000033    0.004230  0.002611 -0.004615\n",
              "\n",
              "[127 rows x 4 columns]"
            ]
          },
          "metadata": {},
          "execution_count": 17
        }
      ]
    },
    {
      "cell_type": "code",
      "metadata": {
        "id": "bExOOBDcf37p"
      },
      "source": [
        "covariance_matrix = returns.cov()"
      ],
      "execution_count": 18,
      "outputs": []
    },
    {
      "cell_type": "code",
      "metadata": {
        "colab": {
          "base_uri": "https://localhost:8080/",
          "height": 173
        },
        "id": "_DabxeFtgFSM",
        "outputId": "64e39d1b-0b51-4efd-ec68-4dd745916375"
      },
      "source": [
        "covariance_matrix"
      ],
      "execution_count": 19,
      "outputs": [
        {
          "output_type": "execute_result",
          "data": {
            "text/html": [
              "<div>\n",
              "<style scoped>\n",
              "    .dataframe tbody tr th:only-of-type {\n",
              "        vertical-align: middle;\n",
              "    }\n",
              "\n",
              "    .dataframe tbody tr th {\n",
              "        vertical-align: top;\n",
              "    }\n",
              "\n",
              "    .dataframe thead th {\n",
              "        text-align: right;\n",
              "    }\n",
              "</style>\n",
              "<table border=\"1\" class=\"dataframe\">\n",
              "  <thead>\n",
              "    <tr style=\"text-align: right;\">\n",
              "      <th></th>\n",
              "      <th>MSFT Close</th>\n",
              "      <th>AAPL Close</th>\n",
              "      <th>FB Close</th>\n",
              "      <th>C Close</th>\n",
              "    </tr>\n",
              "  </thead>\n",
              "  <tbody>\n",
              "    <tr>\n",
              "      <th>MSFT Close</th>\n",
              "      <td>0.000133</td>\n",
              "      <td>0.000123</td>\n",
              "      <td>0.000106</td>\n",
              "      <td>-0.000019</td>\n",
              "    </tr>\n",
              "    <tr>\n",
              "      <th>AAPL Close</th>\n",
              "      <td>0.000123</td>\n",
              "      <td>0.000201</td>\n",
              "      <td>0.000128</td>\n",
              "      <td>-0.000022</td>\n",
              "    </tr>\n",
              "    <tr>\n",
              "      <th>FB Close</th>\n",
              "      <td>0.000106</td>\n",
              "      <td>0.000128</td>\n",
              "      <td>0.000310</td>\n",
              "      <td>0.000005</td>\n",
              "    </tr>\n",
              "    <tr>\n",
              "      <th>C Close</th>\n",
              "      <td>-0.000019</td>\n",
              "      <td>-0.000022</td>\n",
              "      <td>0.000005</td>\n",
              "      <td>0.000211</td>\n",
              "    </tr>\n",
              "  </tbody>\n",
              "</table>\n",
              "</div>"
            ],
            "text/plain": [
              "            MSFT Close  AAPL Close  FB Close   C Close\n",
              "MSFT Close    0.000133    0.000123  0.000106 -0.000019\n",
              "AAPL Close    0.000123    0.000201  0.000128 -0.000022\n",
              "FB Close      0.000106    0.000128  0.000310  0.000005\n",
              "C Close      -0.000019   -0.000022  0.000005  0.000211"
            ]
          },
          "metadata": {},
          "execution_count": 19
        }
      ]
    },
    {
      "cell_type": "code",
      "metadata": {
        "id": "GQf8JI18gHQz"
      },
      "source": [
        "average_returns = returns.mean()"
      ],
      "execution_count": 20,
      "outputs": []
    },
    {
      "cell_type": "code",
      "metadata": {
        "colab": {
          "base_uri": "https://localhost:8080/"
        },
        "id": "6JOZl2rRgT3-",
        "outputId": "80584669-8476-4536-fa5c-de565d2ce683"
      },
      "source": [
        "average_returns"
      ],
      "execution_count": 21,
      "outputs": [
        {
          "output_type": "execute_result",
          "data": {
            "text/plain": [
              "MSFT Close    0.002169\n",
              "AAPL Close    0.002014\n",
              "FB Close      0.002938\n",
              "C Close       0.000323\n",
              "dtype: float64"
            ]
          },
          "metadata": {},
          "execution_count": 21
        }
      ]
    },
    {
      "cell_type": "code",
      "metadata": {
        "id": "QoramQ4DgWbX"
      },
      "source": [
        "weights = np.array([.25,.4,.1,.25])"
      ],
      "execution_count": 22,
      "outputs": []
    },
    {
      "cell_type": "code",
      "metadata": {
        "id": "oSLUo1j5gvQA"
      },
      "source": [
        "portfolio_returns_mean = average_returns.dot(weights)"
      ],
      "execution_count": 23,
      "outputs": []
    },
    {
      "cell_type": "code",
      "metadata": {
        "colab": {
          "base_uri": "https://localhost:8080/"
        },
        "id": "DwBwPqJDg_Gl",
        "outputId": "e1f75277-639d-4aeb-c556-b2bf8890ad25"
      },
      "source": [
        "portfolio_returns_mean"
      ],
      "execution_count": 24,
      "outputs": [
        {
          "output_type": "execute_result",
          "data": {
            "text/plain": [
              "0.0017220643000590988"
            ]
          },
          "metadata": {},
          "execution_count": 24
        }
      ]
    },
    {
      "cell_type": "code",
      "metadata": {
        "id": "c7b3B5ahhH5a"
      },
      "source": [
        "portfolio_stdev = np.sqrt(weights.T.dot(covariance_matrix).dot(weights))"
      ],
      "execution_count": 25,
      "outputs": []
    },
    {
      "cell_type": "code",
      "metadata": {
        "colab": {
          "base_uri": "https://localhost:8080/"
        },
        "id": "giwGcGPkhYrs",
        "outputId": "9da11db7-adf6-4e43-c50a-2cfe51a1c354"
      },
      "source": [
        "portfolio_stdev"
      ],
      "execution_count": 26,
      "outputs": [
        {
          "output_type": "execute_result",
          "data": {
            "text/plain": [
              "0.009506453673320817"
            ]
          },
          "metadata": {},
          "execution_count": 26
        }
      ]
    },
    {
      "cell_type": "code",
      "metadata": {
        "id": "74MCrUfehbXS"
      },
      "source": [
        "mean_investment = (1+portfolio_returns_mean) * initial_investment"
      ],
      "execution_count": 27,
      "outputs": []
    },
    {
      "cell_type": "code",
      "metadata": {
        "colab": {
          "base_uri": "https://localhost:8080/"
        },
        "id": "dPpS5BDmhujo",
        "outputId": "96a6b0af-8618-43cb-85f6-9edcb04a5d4e"
      },
      "source": [
        "mean_investment"
      ],
      "execution_count": 28,
      "outputs": [
        {
          "output_type": "execute_result",
          "data": {
            "text/plain": [
              "500861.03215002955"
            ]
          },
          "metadata": {},
          "execution_count": 28
        }
      ]
    },
    {
      "cell_type": "code",
      "metadata": {
        "id": "ua3ylm3diIBY"
      },
      "source": [
        "stdev_investment = initial_investment * portfolio_stdev"
      ],
      "execution_count": 29,
      "outputs": []
    },
    {
      "cell_type": "code",
      "metadata": {
        "id": "YpGf6Ih3hwDH"
      },
      "source": [
        "conf_level = 0.05\n",
        "\n",
        "\n",
        "from scipy.stats import norm\n",
        "\n",
        "cutoff = norm.ppf(conf_level, mean_investment, stdev_investment)"
      ],
      "execution_count": 30,
      "outputs": []
    },
    {
      "cell_type": "code",
      "metadata": {
        "colab": {
          "base_uri": "https://localhost:8080/"
        },
        "id": "nxci3NtwiLGT",
        "outputId": "a1daba41-3e95-4315-98a7-3669b40859a3"
      },
      "source": [
        "var = initial_investment - cutoff\n",
        "var"
      ],
      "execution_count": 31,
      "outputs": [
        {
          "output_type": "execute_result",
          "data": {
            "text/plain": [
              "6957.330251974403"
            ]
          },
          "metadata": {},
          "execution_count": 31
        }
      ]
    },
    {
      "cell_type": "code",
      "metadata": {
        "id": "z_G77cjGiUKg"
      },
      "source": [
        "#Here we are saying with 95% confidence that our portfolio of 50000 USD will not exceed losses greater than 6957.75 USD over a one day period."
      ],
      "execution_count": 32,
      "outputs": []
    },
    {
      "cell_type": "code",
      "metadata": {
        "colab": {
          "base_uri": "https://localhost:8080/",
          "height": 431
        },
        "id": "TAyZ27uqioWx",
        "outputId": "ca2f99e6-0e44-414d-e612-53e3a753e95f"
      },
      "source": [
        "var_array = []\n",
        "\n",
        "num_days = int(7)\n",
        "\n",
        "for x in range(1, num_days+1):    \n",
        "\n",
        "    var_array.append(np.round(var * np.sqrt(x),2))\n",
        "\n",
        "    print(str(x) + \" day VaR @ 95% confidence: \" + str(np.round(var * np.sqrt(x),2)))\n",
        "\n",
        "\n",
        "\n",
        "# Build plot\n",
        "\n",
        "plt.xlabel(\"Day\")\n",
        "\n",
        "plt.ylabel(\"Max portfolio loss (USD)\")\n",
        "\n",
        "plt.title(\"Max portfolio loss (VaR) over 7-day period\")\n",
        "\n",
        "plt.plot(var_array, \"g\")"
      ],
      "execution_count": 33,
      "outputs": [
        {
          "output_type": "stream",
          "name": "stdout",
          "text": [
            "1 day VaR @ 95% confidence: 6957.33\n",
            "2 day VaR @ 95% confidence: 9839.15\n",
            "3 day VaR @ 95% confidence: 12050.45\n",
            "4 day VaR @ 95% confidence: 13914.66\n",
            "5 day VaR @ 95% confidence: 15557.06\n",
            "6 day VaR @ 95% confidence: 17041.91\n",
            "7 day VaR @ 95% confidence: 18407.37\n"
          ]
        },
        {
          "output_type": "execute_result",
          "data": {
            "text/plain": [
              "[<matplotlib.lines.Line2D at 0x7fe3729db0d0>]"
            ]
          },
          "metadata": {},
          "execution_count": 33
        },
        {
          "output_type": "display_data",
          "data": {
            "image/png": "[encoded data removed]",
            "text/plain": [
              "<Figure size 432x288 with 1 Axes>"
            ]
          },
          "metadata": {
            "needs_background": "light"
          }
        }
      ]
    },
    {
      "cell_type": "code",
      "metadata": {
        "id": "pYlm_IPim3_D"
      },
      "source": [
        ""
      ],
      "execution_count": 33,
      "outputs": []
    }
  ]
}